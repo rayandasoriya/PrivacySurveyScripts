{
 "cells": [
  {
   "cell_type": "code",
   "execution_count": 2,
   "metadata": {},
   "outputs": [],
   "source": [
    "import csv\n",
    "import collections\n",
    "import numpy as np\n",
    "import matplotlib.pyplot as plt"
   ]
  },
  {
   "cell_type": "code",
   "execution_count": 32,
   "metadata": {},
   "outputs": [],
   "source": [
    "count = 0\n",
    "data = []\n",
    "cols = {}\n",
    "with open(\"PrivacySheet1.csv\") as queries:\n",
    "    csv_reader = csv.reader(queries)\n",
    "    next(csv_reader)\n",
    "    count = 0\n",
    "    for row in csv_reader:\n",
    "        for i in range(19):\n",
    "            if i in cols.keys():\n",
    "                cols[i].append(row[i])\n",
    "            else:\n",
    "                cols[i] = [row[i]]\n",
    "        data.append(row)\n",
    "        count+=1"
   ]
  },
  {
   "cell_type": "code",
   "execution_count": 36,
   "metadata": {},
   "outputs": [
    {
     "data": {
      "image/png": "[encoded data removed]",
      "text/plain": [
       "<Figure size 432x288 with 1 Axes>"
      ]
     },
     "metadata": {
      "needs_background": "light"
     },
     "output_type": "display_data"
    }
   ],
   "source": [
    "# FOR HEALTH -- Like v/s implementation\n",
    "a = collections.defaultdict(list)\n",
    "for i in range(len(cols[4])):\n",
    "    if int(cols[4][i])<=2:\n",
    "        a['Dislike'].append(cols[5][i])\n",
    "    elif int(cols[4][i])>3:\n",
    "        a['Like'].append(cols[5][i])\n",
    "    else:\n",
    "        a['Moderate'].append(cols[5][i])\n",
    "\n",
    "b = {}\n",
    "for key, value in a.items():\n",
    "    b[key] = collections.Counter(value)\n",
    "maybe = []\n",
    "yes = []\n",
    "no = []\n",
    "for i in b:\n",
    "    val = sorted(list(b[i].items()))\n",
    "    if 'Maybe' in val[0]:\n",
    "        maybe.append(val[0][1])\n",
    "    else:\n",
    "        maybe.append(0)\n",
    "    if 'Yes' in val[-1]:\n",
    "        yes.append(val[-1][1])\n",
    "    else:\n",
    "        yes.append(0)\n",
    "    if 'No' in val[0]:\n",
    "        no.append(val[0][1])\n",
    "    elif len(val)>=1 and 'No' in val[1]:\n",
    "        no.append(val[1][1])\n",
    "    else:\n",
    "        no.append(0)\n",
    "\n",
    "# data to plot\n",
    "n_groups = 3\n",
    "\n",
    "# create plot\n",
    "fig, ax = plt.subplots()\n",
    "index = np.arange(n_groups)\n",
    "bar_width = 0.25\n",
    "opacity = 0.8\n",
    "\n",
    "rects1 = plt.bar(index, yes, bar_width,\n",
    "alpha=opacity,\n",
    "color='lightskyblue',\n",
    "label='Yes')\n",
    "\n",
    "rects2 = plt.bar(index + bar_width, no, bar_width,\n",
    "alpha=opacity,\n",
    "color='gold',\n",
    "label='No')\n",
    "\n",
    "rects2 = plt.bar(index + 2*bar_width, maybe, bar_width,\n",
    "alpha=opacity,\n",
    "color='lightcoral',\n",
    "label='Maybe')\n",
    "\n",
    "plt.xlabel('Scale of Likeness')\n",
    "plt.ylabel('Number of people interested in implementation')\n",
    "plt.title('Like v/s implementation for Health')\n",
    "plt.xticks(index + bar_width, b.keys())\n",
    "plt.legend()\n",
    "\n",
    "plt.tight_layout()\n",
    "plt.show()"
   ]
  },
  {
   "cell_type": "code",
   "execution_count": 34,
   "metadata": {},
   "outputs": [
    {
     "data": {
      "image/png": "[encoded data removed]",
      "text/plain": [
       "<Figure size 432x288 with 1 Axes>"
      ]
     },
     "metadata": {
      "needs_background": "light"
     },
     "output_type": "display_data"
    }
   ],
   "source": [
    "# FOR PAYMENT -- Like v/s implementation\n",
    "a = collections.defaultdict(list)\n",
    "for i in range(len(cols[4])):\n",
    "    if int(cols[8][i])<=2:\n",
    "        a['Dislike'].append(cols[9][i])\n",
    "    elif int(cols[8][i])>3:\n",
    "        a['Like'].append(cols[9][i])\n",
    "    else:\n",
    "        a['Moderate'].append(cols[9][i])\n",
    "\n",
    "b = {}\n",
    "for key, value in a.items():\n",
    "    b[key] = collections.Counter(value)\n",
    "maybe = []\n",
    "yes = []\n",
    "no = []\n",
    "for i in b:\n",
    "    val = sorted(list(b[i].items()))\n",
    "    if 'Maybe' in val[0]:\n",
    "        maybe.append(val[0][1])\n",
    "    else:\n",
    "        maybe.append(0)\n",
    "    if 'Yes' in val[-1]:\n",
    "        yes.append(val[-1][1])\n",
    "    else:\n",
    "        yes.append(0)\n",
    "    if 'No' in val[0]:\n",
    "        no.append(val[0][1])\n",
    "    elif len(val)>=1 and 'No' in val[1]:\n",
    "        no.append(val[1][1])\n",
    "    else:\n",
    "        no.append(0)\n",
    "\n",
    "# data to plot\n",
    "n_groups = 3\n",
    "\n",
    "# create plot\n",
    "fig, ax = plt.subplots()\n",
    "index = np.arange(n_groups)\n",
    "bar_width = 0.25\n",
    "opacity = 0.8\n",
    "\n",
    "rects1 = plt.bar(index, yes, bar_width,\n",
    "alpha=opacity,\n",
    "color='lightskyblue',\n",
    "label='Yes')\n",
    "\n",
    "rects2 = plt.bar(index + bar_width, no, bar_width,\n",
    "alpha=opacity,\n",
    "color='gold',\n",
    "label='No')\n",
    "\n",
    "rects2 = plt.bar(index + 2*bar_width, maybe, bar_width,\n",
    "alpha=opacity,\n",
    "color='lightcoral',\n",
    "label='Maybe')\n",
    "\n",
    "plt.xlabel('Scale of Likeness')\n",
    "plt.ylabel('Number of people interested in implementation')\n",
    "plt.title('Like v/s implementation for Payment')\n",
    "plt.xticks(index + bar_width, b.keys())\n",
    "plt.legend()\n",
    "\n",
    "plt.tight_layout()\n",
    "plt.show()"
   ]
  },
  {
   "cell_type": "code",
   "execution_count": 35,
   "metadata": {},
   "outputs": [
    {
     "data": {
      "image/png": "[encoded data removed]",
      "text/plain": [
       "<Figure size 432x288 with 1 Axes>"
      ]
     },
     "metadata": {
      "needs_background": "light"
     },
     "output_type": "display_data"
    }
   ],
   "source": [
    "# FOR RETAIL -- Like v/s implementation\n",
    "a = collections.defaultdict(list)\n",
    "for i in range(len(cols[4])):\n",
    "    if int(cols[12][i])<=2:\n",
    "        a['Dislike'].append(cols[13][i])\n",
    "    elif int(cols[12][i])>3:\n",
    "        a['Like'].append(cols[13][i])\n",
    "    else:\n",
    "        a['Moderate'].append(cols[13][i])\n",
    "\n",
    "b = {}\n",
    "for key, value in a.items():\n",
    "    b[key] = collections.Counter(value)\n",
    "maybe = []\n",
    "yes = []\n",
    "no = []\n",
    "for i in b:\n",
    "    val = sorted(list(b[i].items()))\n",
    "    if 'Maybe' in val[0]:\n",
    "        maybe.append(val[0][1])\n",
    "    else:\n",
    "        maybe.append(0)\n",
    "    if 'Yes' in val[-1]:\n",
    "        yes.append(val[-1][1])\n",
    "    else:\n",
    "        yes.append(0)\n",
    "    if 'No' in val[0]:\n",
    "        no.append(val[0][1])\n",
    "    elif len(val)>=1 and 'No' in val[1]:\n",
    "        no.append(val[1][1])\n",
    "    else:\n",
    "        no.append(0)\n",
    "\n",
    "# data to plot\n",
    "n_groups = 3\n",
    "\n",
    "# create plot\n",
    "fig, ax = plt.subplots()\n",
    "index = np.arange(n_groups)\n",
    "bar_width = 0.25\n",
    "opacity = 0.8\n",
    "\n",
    "rects1 = plt.bar(index, yes, bar_width,\n",
    "alpha=opacity,\n",
    "color='lightskyblue',\n",
    "label='Yes')\n",
    "\n",
    "rects2 = plt.bar(index + bar_width, no, bar_width,\n",
    "alpha=opacity,\n",
    "color='gold',\n",
    "label='No')\n",
    "\n",
    "rects2 = plt.bar(index + 2*bar_width, maybe, bar_width,\n",
    "alpha=opacity,\n",
    "color='lightcoral',\n",
    "label='Maybe')\n",
    "\n",
    "plt.xlabel('Scale of Likeness')\n",
    "plt.ylabel('Number of people interested in implementation')\n",
    "plt.title('Like v/s implementation for Retail')\n",
    "plt.xticks(index + bar_width, b.keys())\n",
    "plt.legend()\n",
    "\n",
    "plt.tight_layout()\n",
    "plt.show()"
   ]
  },
  {
   "cell_type": "code",
   "execution_count": null,
   "metadata": {},
   "outputs": [],
   "source": []
  },
  {
   "cell_type": "code",
   "execution_count": null,
   "metadata": {},
   "outputs": [],
   "source": []
  }
 ],
 "metadata": {
  "kernelspec": {
   "display_name": "Python 3",
   "language": "python",
   "name": "python3"
  },
  "language_info": {
   "codemirror_mode": {
    "name": "ipython",
    "version": 3
   },
   "file_extension": ".py",
   "mimetype": "text/x-python",
   "name": "python",
   "nbconvert_exporter": "python",
   "pygments_lexer": "ipython3",
   "version": "3.7.5"
  }
 },
 "nbformat": 4,
 "nbformat_minor": 2
}
