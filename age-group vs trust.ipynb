{
 "cells": [
  {
   "cell_type": "code",
   "execution_count": 6,
   "metadata": {},
   "outputs": [],
   "source": [
    "import numpy as np\n",
    "import time\n",
    "import csv"
   ]
  },
  {
   "cell_type": "code",
   "execution_count": 7,
   "metadata": {},
   "outputs": [],
   "source": [
    "count = 0\n",
    "data = []\n",
    "cols = {}\n",
    "with open(\"PrivacySheet.csv\") as queries:\n",
    "    csv_reader = csv.reader(queries)\n",
    "    next(csv_reader)\n",
    "    count = 0\n",
    "    for row in csv_reader:\n",
    "        data.append(row)\n",
    "        for i in range(19):\n",
    "            if i in cols.keys():\n",
    "                cols[i].append(row[i])\n",
    "            else:\n",
    "                cols[i] = [row[i]]\n",
    "        count+=1"
   ]
  },
  {
   "cell_type": "code",
   "execution_count": 8,
   "metadata": {},
   "outputs": [],
   "source": [
    "import collections\n",
    "ages = {}\n",
    "for age, s1, s2, s3 in zip(cols[0], cols[7], cols[11], cols[15]):\n",
    "    if age in ages.keys():\n",
    "        ages[age][0].append(s1)\n",
    "        ages[age][1].append(s2)\n",
    "        ages[age][2].append(s3)\n",
    "    else:\n",
    "        ages[age] = [[s1], [s2], [s3]]"
   ]
  },
  {
   "cell_type": "code",
   "execution_count": 9,
   "metadata": {},
   "outputs": [
    {
     "name": "stdout",
     "output_type": "stream",
     "text": [
      "[8, 4, 4, 4, 0]\n"
     ]
    },
    {
     "data": {
      "image/png": "[encoded data removed]",
      "text/plain": [
       "<Figure size 432x288 with 1 Axes>"
      ]
     },
     "metadata": {
      "needs_background": "light"
     },
     "output_type": "display_data"
    },
    {
     "name": "stdout",
     "output_type": "stream",
     "text": [
      "[6, 4, 4, 4, 0]\n"
     ]
    },
    {
     "data": {
      "image/png": "[encoded data removed]",
      "text/plain": [
       "<Figure size 432x288 with 1 Axes>"
      ]
     },
     "metadata": {
      "needs_background": "light"
     },
     "output_type": "display_data"
    },
    {
     "name": "stdout",
     "output_type": "stream",
     "text": [
      "[10, 4, 2, 4, 4]\n"
     ]
    },
    {
     "data": {
      "image/png": "[encoded data removed]",
      "text/plain": [
       "<Figure size 432x288 with 1 Axes>"
      ]
     },
     "metadata": {
      "needs_background": "light"
     },
     "output_type": "display_data"
    }
   ],
   "source": [
    "import numpy as np\n",
    "import matplotlib.pyplot as plt\n",
    "count = 0 \n",
    "# set width of bar\n",
    "for m in range(3):\n",
    "    simple = []\n",
    "    for age in ages:\n",
    "        simple.append(dict(collections.Counter(ages[age][m])))\n",
    "\n",
    "    barWidth = 0.15\n",
    "    bars = [[0]*6] * 6\n",
    "\n",
    "    scale1, scale2, scale3, scale4, scale5 = [0]*5, [0]*5, [0]*5, [0]*5, [0]*5\n",
    "    for i in range(5):\n",
    "        for scale, count in simple[i].items():\n",
    "            if int(scale) == 1 :\n",
    "                scale1[i] = count\n",
    "            elif int(scale) == 2:\n",
    "                scale2[i] = count\n",
    "            elif int(scale) == 3:\n",
    "                scale3[i] = count\n",
    "            elif int(scale) == 4:\n",
    "                scale4[i] = count\n",
    "            elif int(scale) == 5:\n",
    "                scale5[i] = count\n",
    "    \n",
    "    \n",
    "    scale1 = [i+j for i, j in zip(scale1, scale2)]\n",
    "    scale2 = scale3\n",
    "    scale3 = [i+j for i, j in zip(scale4, scale5)]\n",
    "    # set height of bar\n",
    "    bars1 = scale1\n",
    "    bars2 = scale2\n",
    "    bars3 = scale3\n",
    "\n",
    "    # Set position of bar on X axis\n",
    "    r1 = np.arange(len(bars1))\n",
    "    r2 = [x + barWidth for x in r1]\n",
    "    r3 = [x + barWidth for x in r2]\n",
    "\n",
    "    # Make the plot\n",
    "    plt.bar(r1, bars1, color='lightcoral', width=barWidth, edgecolor='white', label='low')\n",
    "    plt.bar(r2, bars2, color='gold', width=barWidth, edgecolor='white', label='moderate')\n",
    "    plt.bar(r3, bars3, color='lightskyblue', width=barWidth, edgecolor='white', label='high')\n",
    "\n",
    "    # Add xticks on the middle of the group bars\n",
    "    if m == 0:\n",
    "        plt.title('Health: Age-group vs Trust')\n",
    "    if m == 1:\n",
    "        plt.title('Payment: Age-group vs Trust')\n",
    "    if m == 2:\n",
    "        plt.title('Retail: Age-group vs Trust')\n",
    "    plt.xlabel('Age-group', fontweight='bold')\n",
    "    plt.xticks([r + barWidth for r in range(len(bars1))], ['18 - 24', '25 - 34', '45 - 54', '35 - 44', '13 - 17'])\n",
    "\n",
    "    # Create legend & Show graphic\n",
    "    plt.legend()\n",
    "    plt.show()\n"
   ]
  },
  {
   "cell_type": "code",
   "execution_count": null,
   "metadata": {},
   "outputs": [],
   "source": []
  },
  {
   "cell_type": "code",
   "execution_count": null,
   "metadata": {},
   "outputs": [],
   "source": []
  }
 ],
 "metadata": {
  "kernelspec": {
   "display_name": "Python 3",
   "language": "python",
   "name": "python3"
  },
  "language_info": {
   "codemirror_mode": {
    "name": "ipython",
    "version": 3
   },
   "file_extension": ".py",
   "mimetype": "text/x-python",
   "name": "python",
   "nbconvert_exporter": "python",
   "pygments_lexer": "ipython3",
   "version": "3.7.3"
  }
 },
 "nbformat": 4,
 "nbformat_minor": 2
}
