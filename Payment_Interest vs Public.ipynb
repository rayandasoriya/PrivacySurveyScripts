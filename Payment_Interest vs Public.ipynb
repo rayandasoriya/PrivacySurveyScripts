{
 "cells": [
  {
   "cell_type": "code",
   "execution_count": 1,
   "metadata": {},
   "outputs": [],
   "source": [
    "import csv\n",
    "from itertools import groupby\n",
    "import matplotlib.pyplot as plt\n",
    "import numpy as np"
   ]
  },
  {
   "cell_type": "code",
   "execution_count": 2,
   "metadata": {},
   "outputs": [],
   "source": [
    "count = 0\n",
    "data = []\n",
    "cols = {}\n",
    "with open(\"Privacy - Sheet1.csv\") as queries:\n",
    "    csv_reader = csv.reader(queries)\n",
    "    next(csv_reader)\n",
    "    count = 0\n",
    "    for row in csv_reader:\n",
    "        for i in range(19):\n",
    "            if i in cols.keys():\n",
    "                cols[i].append(row[i])\n",
    "            else:\n",
    "                cols[i] = [row[i]]\n",
    "        data.append(row)\n",
    "        count+=1\n",
    "# print(cols)"
   ]
  },
  {
   "cell_type": "code",
   "execution_count": 11,
   "metadata": {},
   "outputs": [],
   "source": [
    "favor = cols[9]\n",
    "trust = cols[10]\n",
    "\n",
    "# print(favor)\n",
    "# print(trust)\n",
    "\n",
    "lst1 = []\n",
    "lst2 = []\n",
    "lst3 = []\n",
    "\n",
    "for i in range(0,52):\n",
    "    if favor[i] == 'Yes':\n",
    "        lst1.append(trust[i])\n",
    "    elif favor[i] == 'No':\n",
    "        lst2.append(trust[i])\n",
    "    elif favor[i] == 'Maybe':\n",
    "        lst3.append(trust[i])\n",
    "        \n",
    "dict1 = {value: len(list(freq)) for value, freq in groupby(sorted(lst1))}\n",
    "dict2 = {value: len(list(freq)) for value, freq in groupby(sorted(lst2))}\n",
    "dict3 = {value: len(list(freq)) for value, freq in groupby(sorted(lst3))}\n",
    "\n",
    "group1 = [0,0,0]\n",
    "group2 = [0,0,0]\n",
    "\n",
    "itemsTemp = dict1.items() \n",
    "for item in itemsTemp: \n",
    "    if item[0]=='I am fine with providing my facial data to improve such applications for faster payments':\n",
    "        group1[1] = item[1]\n",
    "    elif item[0]=='I prefer paying via facial recognition in public places':\n",
    "        group2[1] = item[1]\n",
    "\n",
    "itemsTemp = dict2.items() \n",
    "for item in itemsTemp: \n",
    "    if item[0]=='I am fine with providing my facial data to improve such applications for faster payments':\n",
    "        group1[0] = item[1]\n",
    "    elif item[0]=='I prefer paying via facial recognition in public places':\n",
    "        group2[0] = item[1]\n",
    "        \n",
    "itemsTemp = dict3.items() \n",
    "for item in itemsTemp: \n",
    "    if item[0]=='I am fine with providing my facial data to improve such applications for faster payments':\n",
    "        group1[2] = item[1]\n",
    "    elif item[0]=='I prefer paying via facial recognition in public places':\n",
    "        group2[2] = item[1]\n"
   ]
  },
  {
   "cell_type": "code",
   "execution_count": 19,
   "metadata": {},
   "outputs": [
    {
     "data": {
      "image/png": "[encoded data removed]",
      "text/plain": [
       "<Figure size 432x288 with 1 Axes>"
      ]
     },
     "metadata": {
      "needs_background": "light"
     },
     "output_type": "display_data"
    }
   ],
   "source": [
    "# data to plot\n",
    "n_groups = 3\n",
    "\n",
    "# create plot\n",
    "fig, ax = plt.subplots()\n",
    "index = np.arange(n_groups)\n",
    "bar_width = 0.2\n",
    "opacity = 0.8\n",
    "\n",
    "rects1 = plt.bar(index+bar_width/2, group1, bar_width,\n",
    "alpha=opacity,\n",
    "color='lightcoral',\n",
    "label='Faster payments feature')\n",
    "\n",
    "rects2 = plt.bar(index+3*bar_width/2, group2, bar_width,\n",
    "alpha=opacity,\n",
    "color='gold',\n",
    "label='Feel secure in public places')\n",
    "\n",
    "plt.xlabel('Favor')\n",
    "plt.ylabel('Trust')\n",
    "plt.title('Trust by Favor')\n",
    "plt.xticks(index + bar_width, ('Yes', 'No', 'Maybe'))\n",
    "plt.legend()\n",
    "\n",
    "plt.tight_layout()\n",
    "plt.show()"
   ]
  }
 ],
 "metadata": {
  "kernelspec": {
   "display_name": "Python 3",
   "language": "python",
   "name": "python3"
  },
  "language_info": {
   "codemirror_mode": {
    "name": "ipython",
    "version": 3
   },
   "file_extension": ".py",
   "mimetype": "text/x-python",
   "name": "python",
   "nbconvert_exporter": "python",
   "pygments_lexer": "ipython3",
   "version": "3.7.4"
  }
 },
 "nbformat": 4,
 "nbformat_minor": 2
}
