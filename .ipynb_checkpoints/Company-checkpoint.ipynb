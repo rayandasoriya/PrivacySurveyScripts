{
 "cells": [
  {
   "cell_type": "code",
   "execution_count": 1,
   "metadata": {},
   "outputs": [],
   "source": [
    "import csv\n",
    "from itertools import groupby\n",
    "import matplotlib.pyplot as plt\n",
    "import numpy as np"
   ]
  },
  {
   "cell_type": "code",
   "execution_count": 4,
   "metadata": {},
   "outputs": [
    {
     "ename": "FileNotFoundError",
     "evalue": "[Errno 2] No such file or directory: 'Privacy - Sheet1.csv'",
     "output_type": "error",
     "traceback": [
      "\u001b[0;31m---------------------------------------------------------------------------\u001b[0m",
      "\u001b[0;31mFileNotFoundError\u001b[0m                         Traceback (most recent call last)",
      "\u001b[0;32m<ipython-input-4-a2365ecc09d7>\u001b[0m in \u001b[0;36m<module>\u001b[0;34m\u001b[0m\n\u001b[1;32m      2\u001b[0m \u001b[0mdata\u001b[0m \u001b[0;34m=\u001b[0m \u001b[0;34m[\u001b[0m\u001b[0;34m]\u001b[0m\u001b[0;34m\u001b[0m\u001b[0;34m\u001b[0m\u001b[0m\n\u001b[1;32m      3\u001b[0m \u001b[0mcols\u001b[0m \u001b[0;34m=\u001b[0m \u001b[0;34m{\u001b[0m\u001b[0;34m}\u001b[0m\u001b[0;34m\u001b[0m\u001b[0;34m\u001b[0m\u001b[0m\n\u001b[0;32m----> 4\u001b[0;31m \u001b[0;32mwith\u001b[0m \u001b[0mopen\u001b[0m\u001b[0;34m(\u001b[0m\u001b[0;34m\"Privacy - Sheet1.csv\"\u001b[0m\u001b[0;34m)\u001b[0m \u001b[0;32mas\u001b[0m \u001b[0mqueries\u001b[0m\u001b[0;34m:\u001b[0m\u001b[0;34m\u001b[0m\u001b[0;34m\u001b[0m\u001b[0m\n\u001b[0m\u001b[1;32m      5\u001b[0m     \u001b[0mcsv_reader\u001b[0m \u001b[0;34m=\u001b[0m \u001b[0mcsv\u001b[0m\u001b[0;34m.\u001b[0m\u001b[0mreader\u001b[0m\u001b[0;34m(\u001b[0m\u001b[0mqueries\u001b[0m\u001b[0;34m)\u001b[0m\u001b[0;34m\u001b[0m\u001b[0;34m\u001b[0m\u001b[0m\n\u001b[1;32m      6\u001b[0m     \u001b[0mnext\u001b[0m\u001b[0;34m(\u001b[0m\u001b[0mcsv_reader\u001b[0m\u001b[0;34m)\u001b[0m\u001b[0;34m\u001b[0m\u001b[0;34m\u001b[0m\u001b[0m\n",
      "\u001b[0;31mFileNotFoundError\u001b[0m: [Errno 2] No such file or directory: 'Privacy - Sheet1.csv'"
     ]
    }
   ],
   "source": [
    "count = 0\n",
    "data = []\n",
    "cols = {}\n",
    "with open(\"Privacy - Sheet1.csv\") as queries:\n",
    "    csv_reader = csv.reader(queries)\n",
    "    next(csv_reader)\n",
    "    count = 0\n",
    "    for row in csv_reader:\n",
    "        for i in range(19):\n",
    "            if i in cols.keys():\n",
    "                cols[i].append(row[i])\n",
    "            else:\n",
    "                cols[i] = [row[i]]\n",
    "        data.append(row)\n",
    "        count+=1\n",
    "# print(cols)"
   ]
  },
  {
   "cell_type": "code",
   "execution_count": 51,
   "metadata": {},
   "outputs": [
    {
     "name": "stdout",
     "output_type": "stream",
     "text": [
      "{'Would decrease the acceptance': 8, 'Would increase the acceptance': 36, \"Wouldn't change\": 8}\n",
      "['Would decrease the acceptance', 'Would increase the acceptance', \"Wouldn't change\"]\n",
      "[8, 36, 8]\n"
     ]
    }
   ],
   "source": [
    "company = {value: len(list(freq)) for value, freq in groupby(sorted(cols[16]))}\n",
    "print(company)\n",
    "\n",
    "keys_company = [] \n",
    "values_company = [] \n",
    "items_company = company.items() \n",
    "for item in items_company: \n",
    "    keys_company.append(item[0]), values_company.append(item[1]) \n",
    "print(keys_company)\n",
    "print(values_company)"
   ]
  },
  {
   "cell_type": "code",
   "execution_count": 107,
   "metadata": {},
   "outputs": [
    {
     "data": {
      "image/png": "[encoded data removed]",
      "text/plain": [
       "<Figure size 432x288 with 1 Axes>"
      ]
     },
     "metadata": {},
     "output_type": "display_data"
    }
   ],
   "source": [
    "colors = ['lightcoral', 'gold', 'lightskyblue']\n",
    "explode = (0, 0.1, 0)  # explode 2nd slice\n",
    "\n",
    "plt.pie(values_company, explode=explode, labels=keys_company, colors=colors,\n",
    "autopct='%1.1f%%', shadow=True, startangle=140)\n",
    "\n",
    "plt.title('Company Effect by Frequency')\n",
    "\n",
    "plt.axis('equal')\n",
    "plt.show()"
   ]
  },
  {
   "cell_type": "code",
   "execution_count": 109,
   "metadata": {},
   "outputs": [
    {
     "name": "stdout",
     "output_type": "stream",
     "text": [
      "{'13 - 17': 4, '18 - 24': 22, '25 - 34': 16, '35 - 44': 6, '45 - 54': 4}\n"
     ]
    }
   ],
   "source": [
    "age = {value: len(list(freq)) for value, freq in groupby(sorted(cols[0]))}\n",
    "print(age)\n"
   ]
  },
  {
   "cell_type": "code",
   "execution_count": 102,
   "metadata": {},
   "outputs": [
    {
     "name": "stdout",
     "output_type": "stream",
     "text": [
      "[0, 4, 2, 2, 0]\n",
      "[2, 16, 12, 4, 2]\n",
      "[2, 2, 2, 0, 2]\n"
     ]
    }
   ],
   "source": [
    "ageList = cols[0]\n",
    "companyList = cols[16]\n",
    "\n",
    "lstca1 = []\n",
    "lstca2 = []\n",
    "lstca3 = []\n",
    "lstca4 = []\n",
    "lstca5 = []\n",
    "for i in range(0,52):\n",
    "    if ageList[i] == '13 - 17':\n",
    "        lstca1.append(companyList[i])\n",
    "    elif ageList[i] == '18 - 24':\n",
    "        lstca2.append(companyList[i]) \n",
    "    elif ageList[i] == '25 - 34':\n",
    "        lstca3.append(companyList[i]) \n",
    "    elif ageList[i] == '35 - 44':\n",
    "        lstca4.append(companyList[i]) \n",
    "    elif ageList[i] == '45 - 54':\n",
    "        lstca5.append(companyList[i]) \n",
    "        \n",
    "dictca1 = {value: len(list(freq)) for value, freq in groupby(sorted(lstca1))}\n",
    "dictca2 = {value: len(list(freq)) for value, freq in groupby(sorted(lstca2))}\n",
    "dictca3 = {value: len(list(freq)) for value, freq in groupby(sorted(lstca3))}\n",
    "dictca4 = {value: len(list(freq)) for value, freq in groupby(sorted(lstca4))}\n",
    "dictca5 = {value: len(list(freq)) for value, freq in groupby(sorted(lstca5))}\n",
    " \n",
    "group1 = [0,0,0,0,0]\n",
    "group2 = [0,0,0,0,0]\n",
    "group3 = [0,0,0,0,0]\n",
    "\n",
    "itemsTemp = dictca1.items() \n",
    "for item in itemsTemp: \n",
    "    if item[0]=='Would decrease the acceptance':\n",
    "        group1[0] = item[1]\n",
    "    elif item[0]=='Would increase the acceptance':\n",
    "        group2[0] = item[1]\n",
    "    elif item[0]=='Wouldn\\'t change':\n",
    "        group3[0] = item[1]\n",
    "\n",
    "itemsTemp = dictca2.items() \n",
    "for item in itemsTemp: \n",
    "    if item[0]=='Would decrease the acceptance':\n",
    "        group1[1] = item[1]\n",
    "    elif item[0]=='Would increase the acceptance':\n",
    "        group2[1] = item[1]\n",
    "    elif item[0]=='Wouldn\\'t change':\n",
    "        group3[1] = item[1]\n",
    "\n",
    "itemsTemp = dictca3.items() \n",
    "for item in itemsTemp: \n",
    "    if item[0]=='Would decrease the acceptance':\n",
    "        group1[2] = item[1]\n",
    "    elif item[0]=='Would increase the acceptance':\n",
    "        group2[2] = item[1]\n",
    "    elif item[0]=='Wouldn\\'t change':\n",
    "        group3[2] = item[1]\n",
    "\n",
    "itemsTemp = dictca4.items() \n",
    "for item in itemsTemp: \n",
    "    if item[0]=='Would decrease the acceptance':\n",
    "        group1[3] = item[1]\n",
    "    elif item[0]=='Would increase the acceptance':\n",
    "        group2[3] = item[1]\n",
    "    elif item[0]=='Wouldn\\'t change':\n",
    "        group3[3] = item[1]\n",
    "\n",
    "itemsTemp = dictca5.items() \n",
    "for item in itemsTemp: \n",
    "    if item[0]=='Would decrease the acceptance':\n",
    "        group1[4] = item[1]\n",
    "    elif item[0]=='Would increase the acceptance':\n",
    "        group2[4] = item[1]\n",
    "    elif item[0]=='Wouldn\\'t change':\n",
    "        group3[4] = item[1]\n",
    "\n",
    "print(group1)\n",
    "print(group2)\n",
    "print(group3)\n",
    "    "
   ]
  },
  {
   "cell_type": "code",
   "execution_count": 108,
   "metadata": {},
   "outputs": [
    {
     "data": {
      "image/png": "[encoded data removed]",
      "text/plain": [
       "<Figure size 432x288 with 1 Axes>"
      ]
     },
     "metadata": {
      "needs_background": "light"
     },
     "output_type": "display_data"
    }
   ],
   "source": [
    "# data to plot\n",
    "n_groups = 5\n",
    "\n",
    "# create plot\n",
    "fig, ax = plt.subplots()\n",
    "index = np.arange(n_groups)\n",
    "bar_width = 0.2\n",
    "opacity = 0.8\n",
    "\n",
    "rects1 = plt.bar(index, group1, bar_width,\n",
    "alpha=opacity,\n",
    "color='lightcoral',\n",
    "label='decrease')\n",
    "\n",
    "rects2 = plt.bar(index+bar_width, group2, bar_width,\n",
    "alpha=opacity,\n",
    "color='gold',\n",
    "label='increase')\n",
    "\n",
    "rects3 = plt.bar(index + 2*bar_width, group3, bar_width,\n",
    "alpha=opacity,\n",
    "color='lightskyblue',\n",
    "label='no change')\n",
    "\n",
    "plt.xlabel('Age')\n",
    "plt.ylabel('Company Effect')\n",
    "plt.title('Company Effect by Age')\n",
    "plt.xticks(index + bar_width, ('13 - 17', '18 - 24', '25 - 34', '35 - 44', '45 - 54'))\n",
    "plt.legend()\n",
    "\n",
    "plt.tight_layout()\n",
    "plt.show()"
   ]
  },
  {
   "cell_type": "code",
   "execution_count": 110,
   "metadata": {},
   "outputs": [
    {
     "name": "stdout",
     "output_type": "stream",
     "text": [
      "{\"Bachelor's degree\": 12, 'Doctorate degree': 6, 'High school graduate, diploma or the equivalent (for example: GED)': 4, 'Less than HS Diploma': 2, \"Master's degree\": 24, 'Professional degree': 4}\n"
     ]
    }
   ],
   "source": [
    "education = {value: len(list(freq)) for value, freq in groupby(sorted(cols[2]))}\n",
    "print(education)"
   ]
  },
  {
   "cell_type": "code",
   "execution_count": 118,
   "metadata": {},
   "outputs": [
    {
     "name": "stdout",
     "output_type": "stream",
     "text": [
      "[0, 0, 0, 4, 0, 0]\n",
      "[2, 4, 6, 20, 4, 4]\n",
      "[0, 0, 6, 0, 0, 0]\n"
     ]
    }
   ],
   "source": [
    "educationList = cols[2]\n",
    "companyList = cols[16]\n",
    "\n",
    "lstce1 = []\n",
    "lstce2 = []\n",
    "lstce3 = []\n",
    "lstce4 = []\n",
    "lstce5 = []\n",
    "lstce6 = []\n",
    "for i in range(0,52):\n",
    "    if educationList[i] == 'Less than HS Diploma':\n",
    "        lstce1.append(companyList[i])\n",
    "    elif educationList[i] == 'High school graduate, diploma or the equivalent (for example: GED)':\n",
    "        lstce2.append(companyList[i]) \n",
    "    elif educationList[i] == 'Bachelor\\'s degree':\n",
    "        lstce3.append(companyList[i]) \n",
    "    elif educationList[i] == 'Master\\'s degree':\n",
    "        lstce4.append(companyList[i]) \n",
    "    elif educationList[i] == 'Professional degree':\n",
    "        lstce5.append(companyList[i]) \n",
    "    elif educationList[i] == 'Doctorate degree':\n",
    "        lstce6.append(companyList[i]) \n",
    "        \n",
    "dictce1 = {value: len(list(freq)) for value, freq in groupby(sorted(lstce1))}\n",
    "dictce2 = {value: len(list(freq)) for value, freq in groupby(sorted(lstce2))}\n",
    "dictce3 = {value: len(list(freq)) for value, freq in groupby(sorted(lstce3))}\n",
    "dictce4 = {value: len(list(freq)) for value, freq in groupby(sorted(lstce4))}\n",
    "dictce5 = {value: len(list(freq)) for value, freq in groupby(sorted(lstce5))}\n",
    "dictce6 = {value: len(list(freq)) for value, freq in groupby(sorted(lstce5))}\n",
    " \n",
    "g1 = [0,0,0,0,0,0]\n",
    "g2 = [0,0,0,0,0,0]\n",
    "g3 = [0,0,0,0,0,0]\n",
    "\n",
    "itemsTemp = dictce1.items() \n",
    "for item in itemsTemp: \n",
    "    if item[0]=='Would decrease the acceptance':\n",
    "        g1[0] = item[1]\n",
    "    elif item[0]=='Would increase the acceptance':\n",
    "        g2[0] = item[1]\n",
    "    elif item[0]=='Wouldn\\'t change':\n",
    "        g3[0] = item[1]\n",
    "\n",
    "itemsTemp = dictce2.items() \n",
    "for item in itemsTemp: \n",
    "    if item[0]=='Would decrease the acceptance':\n",
    "        g1[1] = item[1]\n",
    "    elif item[0]=='Would increase the acceptance':\n",
    "        g2[1] = item[1]\n",
    "    elif item[0]=='Wouldn\\'t change':\n",
    "        g3[1] = item[1]\n",
    "\n",
    "itemsTemp = dictce3.items() \n",
    "for item in itemsTemp: \n",
    "    if item[0]=='Would decrease the acceptance':\n",
    "        g1[2] = item[1]\n",
    "    elif item[0]=='Would increase the acceptance':\n",
    "        g2[2] = item[1]\n",
    "    elif item[0]=='Wouldn\\'t change':\n",
    "        g3[2] = item[1]\n",
    "\n",
    "itemsTemp = dictce4.items() \n",
    "for item in itemsTemp: \n",
    "    if item[0]=='Would decrease the acceptance':\n",
    "        g1[3] = item[1]\n",
    "    elif item[0]=='Would increase the acceptance':\n",
    "        g2[3] = item[1]\n",
    "    elif item[0]=='Wouldn\\'t change':\n",
    "        g3[3] = item[1]\n",
    "\n",
    "itemsTemp = dictce5.items() \n",
    "for item in itemsTemp: \n",
    "    if item[0]=='Would decrease the acceptance':\n",
    "        g1[4] = item[1]\n",
    "    elif item[0]=='Would increase the acceptance':\n",
    "        g2[4] = item[1]\n",
    "    elif item[0]=='Wouldn\\'t change':\n",
    "        g3[4] = item[1]\n",
    "        \n",
    "itemsTemp = dictce6.items() \n",
    "for item in itemsTemp: \n",
    "    if item[0]=='Would decrease the acceptance':\n",
    "        g1[5] = item[1]\n",
    "    elif item[0]=='Would increase the acceptance':\n",
    "        g2[5] = item[1]\n",
    "    elif item[0]=='Wouldn\\'t change':\n",
    "        g3[5] = item[1]\n",
    "\n",
    "print(g1)\n",
    "print(g2)\n",
    "print(g3)\n",
    "        \n",
    "\n",
    "    "
   ]
  },
  {
   "cell_type": "code",
   "execution_count": 120,
   "metadata": {},
   "outputs": [
    {
     "data": {
      "image/png": "[encoded data removed]",
      "text/plain": [
       "<Figure size 432x288 with 1 Axes>"
      ]
     },
     "metadata": {
      "needs_background": "light"
     },
     "output_type": "display_data"
    }
   ],
   "source": [
    "# data to plot\n",
    "n_groups = 6\n",
    "\n",
    "# create plot\n",
    "fig, ax = plt.subplots()\n",
    "index = np.arange(n_groups)\n",
    "bar_width = 0.2\n",
    "opacity = 0.8\n",
    "\n",
    "rects1 = plt.bar(index, g1, bar_width,\n",
    "alpha=opacity,\n",
    "color='lightcoral',\n",
    "label='decrease')\n",
    "\n",
    "rects2 = plt.bar(index+bar_width, g2, bar_width,\n",
    "alpha=opacity,\n",
    "color='gold',\n",
    "label='increase')\n",
    "\n",
    "rects3 = plt.bar(index + 2*bar_width, g3, bar_width,\n",
    "alpha=opacity,\n",
    "color='lightskyblue',\n",
    "label='no change')\n",
    "\n",
    "plt.xlabel('Education')\n",
    "plt.ylabel('Company Effect')\n",
    "plt.title('Company Effect by Education')\n",
    "plt.xticks(index + bar_width, ('<HS', 'HS', 'Bachelors', 'Masters', 'Proferssional', 'Doctorate'))\n",
    "plt.legend()\n",
    "\n",
    "plt.tight_layout()\n",
    "plt.show()"
   ]
  }
 ],
 "metadata": {
  "kernelspec": {
   "display_name": "Python 3",
   "language": "python",
   "name": "python3"
  },
  "language_info": {
   "codemirror_mode": {
    "name": "ipython",
    "version": 3
   },
   "file_extension": ".py",
   "mimetype": "text/x-python",
   "name": "python",
   "nbconvert_exporter": "python",
   "pygments_lexer": "ipython3",
   "version": "3.7.4"
  }
 },
 "nbformat": 4,
 "nbformat_minor": 2
}
